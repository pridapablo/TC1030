{
 "cells": [
  {
   "cell_type": "code",
   "execution_count": 22,
   "metadata": {},
   "outputs": [],
   "source": [
    "class Perrito:\n",
    "    #Atributo de clase\n",
    "    especie = \"Canis familiaris\"\n",
    "\n",
    "    def __init__(self, nombre, edad):\n",
    "        #Atributos de instancia\n",
    "        self.nombre = nombre \n",
    "        self.edad = edad\n",
    "    \n",
    "    def __str__(self): #Enlaza la instrucción print a este método (método mágico)\n",
    "        return f\"{self.nombre} tiene {self.edad} años\"\n",
    "\n",
    "    def hablar(self):\n",
    "        return \"woof, woof!\""
   ]
  },
  {
   "cell_type": "markdown",
   "metadata": {},
   "source": [
    "# Herencia de clases:"
   ]
  },
  {
   "cell_type": "code",
   "execution_count": 30,
   "metadata": {},
   "outputs": [],
   "source": [
    "class Yorkie(Perrito): #Yorkie hereda de Perrito -> Herencia simple\n",
    "    def __init__(self,nombre,edad,raza): #redefinimos el método constructor\n",
    "        super().__init__(nombre,edad) #Super es una palabra reservada. Busca en la clase de la cual yo heredo (super = Perrito)\n",
    "        # Extiendo el funcionamiento\n",
    "        self.raza = raza\n",
    "\n",
    "    #El Yorkie ladra diferente\n",
    "    def hablar(self):\n",
    "        return \"guao, guao!\"\n",
    "\n",
    "class Pug(Perrito): #Pug hereda de Perrito -> Otra herencia simple = Herencia jerarquica\n",
    "    pass"
   ]
  },
  {
   "cell_type": "markdown",
   "metadata": {},
   "source": [
    "## Instancias"
   ]
  },
  {
   "cell_type": "code",
   "execution_count": 31,
   "metadata": {},
   "outputs": [
    {
     "name": "stdout",
     "output_type": "stream",
     "text": [
      "guao, guao!\n",
      "yorkie\n"
     ]
    }
   ],
   "source": [
    "a = Yorkie(\"York\",5,\"yorkie\") #Instancia\n",
    "print(a.hablar())\n",
    "print(a.raza)\n",
    "print(a) #Llamo al método __str__"
   ]
  },
  {
   "cell_type": "code",
   "execution_count": null,
   "metadata": {},
   "outputs": [],
   "source": []
  },
  {
   "cell_type": "code",
   "execution_count": 33,
   "metadata": {},
   "outputs": [
    {
     "name": "stdout",
     "output_type": "stream",
     "text": [
      "woof, woof!\n",
      "baxter\n",
      "baxter tiene 10 años\n"
     ]
    }
   ],
   "source": [
    "b = Pug(\"baxter\",10)\n",
    "print(b.hablar())\n",
    "print(b.nombre)\n",
    "print(b)"
   ]
  }
 ],
 "metadata": {
  "interpreter": {
   "hash": "aee8b7b246df8f9039afb4144a1f6fd8d2ca17a180786b69acc140d282b71a49"
  },
  "kernelspec": {
   "display_name": "Python 3.9.10 64-bit",
   "language": "python",
   "name": "python3"
  },
  "language_info": {
   "codemirror_mode": {
    "name": "ipython",
    "version": 3
   },
   "file_extension": ".py",
   "mimetype": "text/x-python",
   "name": "python",
   "nbconvert_exporter": "python",
   "pygments_lexer": "ipython3",
   "version": "3.9.10"
  },
  "orig_nbformat": 4
 },
 "nbformat": 4,
 "nbformat_minor": 2
}
